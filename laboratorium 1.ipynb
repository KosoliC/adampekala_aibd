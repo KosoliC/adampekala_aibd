{
 "cells": [
  {
   "cell_type": "code",
   "execution_count": null,
   "id": "4d167dbc",
   "metadata": {},
   "outputs": [],
   "source": [
    "#Zadanie 3\n",
    "#Zdefiniuj poniższą funkcję i sporządź jej wykres dla argumentów z danego przedziału:\n",
    "\n",
    "# f(x) = x^2 + 5\n",
    "#1. x > -1 oraz x <1 \n",
    "#2. x > -6 oraz x <6 \n",
    "#3. x > 0 oraz x <5 \n",
    "\n",
    "import matplotlib.pyplot as plt\n",
    "import numpy as np \n",
    "\n",
    "def function():\n",
    "    return x**2+5\n",
    "\n",
    "\n",
    "plt.plot()\n",
    "\n",
    "plt.show()\n",
    "\n"
   ]
  },
  {
   "cell_type": "code",
   "execution_count": null,
   "id": "93f84d26",
   "metadata": {},
   "outputs": [],
   "source": []
  },
  {
   "cell_type": "code",
   "execution_count": null,
   "id": "cf6dad8e",
   "metadata": {},
   "outputs": [],
   "source": []
  }
 ],
 "metadata": {
  "kernelspec": {
   "display_name": "Python 3 (ipykernel)",
   "language": "python",
   "name": "python3"
  },
  "language_info": {
   "codemirror_mode": {
    "name": "ipython",
    "version": 3
   },
   "file_extension": ".py",
   "mimetype": "text/x-python",
   "name": "python",
   "nbconvert_exporter": "python",
   "pygments_lexer": "ipython3",
   "version": "3.10.0"
  }
 },
 "nbformat": 4,
 "nbformat_minor": 5
}
